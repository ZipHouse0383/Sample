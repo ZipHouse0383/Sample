{
 "cells": [
  {
   "cell_type": "markdown",
   "id": "1dc59132",
   "metadata": {},
   "source": [
    "阿豪在一台工程计算器上实现了深度学习算法。在模型训练时需要从数据集中随机抽取小批量数据用于更新模型，其中数据集是一个由样本组成的长列表。于是，他编写了下面的函数，用于在指定长度的列表中不重复地随机抽取若干个样本，返回它们在列表中的索引"
   ]
  },
  {
   "cell_type": "code",
   "execution_count": 3,
   "id": "aa67a203",
   "metadata": {},
   "outputs": [],
   "source": [
    "import random"
   ]
  },
  {
   "cell_type": "code",
   "execution_count": 7,
   "id": "b7bf17df",
   "metadata": {},
   "outputs": [],
   "source": [
    "def sample(length, num_samples):\n",
    "    \"\"\"\n",
    "    参数说明:\n",
    "        length:将被抽样的数组的长度\n",
    "        num_samples:抽样的数量\n",
    "    \n",
    "    \"\"\"\n",
    "    indice = list(range(length))\n",
    "\n",
    "    for i in range(num_samples):\n",
    "        j = random.randint(i, length-1)\n",
    "        indice[i], indice[j] = indice[j], indice[i]\n",
    "\n",
    "    return indice[:num_samples]\n",
    "\n"
   ]
  },
  {
   "cell_type": "code",
   "execution_count": 11,
   "id": "30f1f1e0",
   "metadata": {},
   "outputs": [
    {
     "name": "stdout",
     "output_type": "stream",
     "text": [
      "[1, 4, 0, 2, 3]\n",
      "[2, 19, 50]\n"
     ]
    }
   ],
   "source": [
    "print(sample(5,5))\n",
    "print(sample(100,3))"
   ]
  }
 ],
 "metadata": {
  "kernelspec": {
   "display_name": "Python 3 (ipykernel)",
   "language": "python",
   "name": "python3"
  },
  "language_info": {
   "codemirror_mode": {
    "name": "ipython",
    "version": 3
   },
   "file_extension": ".py",
   "mimetype": "text/x-python",
   "name": "python",
   "nbconvert_exporter": "python",
   "pygments_lexer": "ipython3",
   "version": "3.9.18"
  }
 },
 "nbformat": 4,
 "nbformat_minor": 5
}
