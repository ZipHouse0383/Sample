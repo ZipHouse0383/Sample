{
  "cells": [
    {
      "cell_type": "code",
      "execution_count": null,
      "id": "aa67a203",
      "metadata": {
        "id": "aa67a203"
      },
      "outputs": [],
      "source": [
        "import random"
      ]
    },
    {
      "cell_type": "markdown",
      "id": "1dc59132",
      "metadata": {
        "id": "1dc59132"
      },
      "source": [
        "阿豪在一台工程计算器上实现了深度学习算法。在模型训练时需要从数据集中随机抽取小批量数据用于更新模型，其中数据集是一个由样本组成的长列表。于是，他编写了下面的函数，用于在指定长度的列表中不重复地随机抽取若干个样本，返回它们在列表中的索引"
      ]
    },
    {
      "cell_type": "code",
      "execution_count": null,
      "id": "b7bf17df",
      "metadata": {
        "id": "b7bf17df"
      },
      "outputs": [],
      "source": [
        "def sample(length, num_samples):\n",
        "    \"\"\"\n",
        "    参数说明:\n",
        "        length:将被抽样的数组的长度\n",
        "        num_samples:抽样的数量\n",
        "\n",
        "    \"\"\"\n",
        "    indice = list(range(length))\n",
        "\n",
        "    for i in range(num_samples):\n",
        "        j = random.randint(i, length-1)\n",
        "        indice[i], indice[j] = indice[j], indice[i]\n",
        "\n",
        "    return indice[:num_samples]"
      ]
    },
    {
      "cell_type": "code",
      "execution_count": null,
      "id": "30f1f1e0",
      "metadata": {
        "id": "30f1f1e0",
        "outputId": "68acfec4-79da-441b-b1d0-4ca490e41a68",
        "colab": {
          "base_uri": "https://localhost:8080/"
        }
      },
      "outputs": [
        {
          "output_type": "stream",
          "name": "stdout",
          "text": [
            "[1, 0, 3, 4, 2]\n",
            "[2338, 2385, 9436]\n"
          ]
        }
      ],
      "source": [
        "print(sample(5,5))\n",
        "print(sample(10000,3))"
      ]
    },
    {
      "cell_type": "markdown",
      "source": [
        "测试过程中，阿豪发现计算器的内存不足，而随机数抽样过程中需要生成一个完整的索引列表，其长度与数据集相等等，容易导致内存不足，于是他编写了一个新的函数："
      ],
      "metadata": {
        "id": "fx0buKzLG_dw"
      },
      "id": "fx0buKzLG_dw"
    },
    {
      "cell_type": "code",
      "source": [
        "\n",
        "def sample(length, num_samples):\n",
        "    indice = [random.randint(0, length-1-i)\n",
        "              for i in range(num_samples)]\n",
        "\n",
        "    for i in range(num_samples-1, 0, -1):\n",
        "        for j in range(i-1, -1, -1):\n",
        "            if indice[i] >= indice[j]:\n",
        "                indice[i] += 1\n",
        "\n",
        "    return indice"
      ],
      "metadata": {
        "id": "NJnqeh4AHMo0"
      },
      "id": "NJnqeh4AHMo0",
      "execution_count": null,
      "outputs": []
    },
    {
      "cell_type": "code",
      "source": [
        "print(sample(5,5))\n",
        "print(sample(10000,3))"
      ],
      "metadata": {
        "id": "oKriFSagHyqu",
        "outputId": "6ed79dc6-dbe4-49db-f7b7-c9f62e4ae2ff",
        "colab": {
          "base_uri": "https://localhost:8080/"
        }
      },
      "id": "oKriFSagHyqu",
      "execution_count": null,
      "outputs": [
        {
          "output_type": "stream",
          "name": "stdout",
          "text": [
            "[4, 0, 2, 1, 3]\n",
            "[5567, 8753, 9225]\n"
          ]
        }
      ]
    }
  ],
  "metadata": {
    "kernelspec": {
      "display_name": "Python 3 (ipykernel)",
      "language": "python",
      "name": "python3"
    },
    "language_info": {
      "codemirror_mode": {
        "name": "ipython",
        "version": 3
      },
      "file_extension": ".py",
      "mimetype": "text/x-python",
      "name": "python",
      "nbconvert_exporter": "python",
      "pygments_lexer": "ipython3",
      "version": "3.9.18"
    },
    "colab": {
      "provenance": []
    }
  },
  "nbformat": 4,
  "nbformat_minor": 5
}